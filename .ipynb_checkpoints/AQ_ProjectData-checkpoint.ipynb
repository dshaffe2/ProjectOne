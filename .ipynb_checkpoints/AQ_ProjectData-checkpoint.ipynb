{
 "cells": [
  {
   "cell_type": "code",
   "execution_count": 1,
   "metadata": {},
   "outputs": [],
   "source": [
    "#NOTE: For the code to work, you must change the directory below in the glob.glob line\n",
    "\n",
    "import requests\n",
    "import pandas as pd\n",
    "import numpy as np\n",
    "import csv\n",
    "import glob\n",
    "import matplotlib.pyplot as plt\n",
    "from scipy.stats.stats import pearsonr"
   ]
  },
  {
   "cell_type": "code",
   "execution_count": 7,
   "metadata": {},
   "outputs": [
    {
     "name": "stderr",
     "output_type": "stream",
     "text": [
      "'unzip' is not recognized as an internal or external command,\n",
      "operable program or batch file.\n",
      "'unzip' is not recognized as an internal or external command,\n",
      "operable program or batch file.\n"
     ]
    },
    {
     "ename": "KeyboardInterrupt",
     "evalue": "",
     "output_type": "error",
     "traceback": [
      "\u001b[1;31m---------------------------------------------------------------------------\u001b[0m",
      "\u001b[1;31mKeyboardInterrupt\u001b[0m                         Traceback (most recent call last)",
      "\u001b[1;32m<ipython-input-7-f1b1dd1f9637>\u001b[0m in \u001b[0;36m<module>\u001b[1;34m()\u001b[0m\n\u001b[0;32m      5\u001b[0m \u001b[1;32mwhile\u001b[0m \u001b[0myr\u001b[0m \u001b[1;33m>\u001b[0m \u001b[1;36m1989\u001b[0m\u001b[1;33m:\u001b[0m\u001b[1;33m\u001b[0m\u001b[0m\n\u001b[0;32m      6\u001b[0m     \u001b[0murl\u001b[0m \u001b[1;33m=\u001b[0m \u001b[1;34mf'https://aqs.epa.gov/aqsweb/airdata/daily_aqi_by_cbsa_{yr}.zip'\u001b[0m\u001b[1;33m\u001b[0m\u001b[0m\n\u001b[1;32m----> 7\u001b[1;33m     \u001b[0mresponse\u001b[0m \u001b[1;33m=\u001b[0m \u001b[0mrequests\u001b[0m\u001b[1;33m.\u001b[0m\u001b[0mget\u001b[0m\u001b[1;33m(\u001b[0m\u001b[0murl\u001b[0m\u001b[1;33m)\u001b[0m\u001b[1;33m\u001b[0m\u001b[0m\n\u001b[0m\u001b[0;32m      8\u001b[0m     \u001b[0myr\u001b[0m \u001b[1;33m-=\u001b[0m \u001b[1;36m1\u001b[0m\u001b[1;33m\u001b[0m\u001b[0m\n\u001b[0;32m      9\u001b[0m     \u001b[1;32mwith\u001b[0m \u001b[0mopen\u001b[0m\u001b[1;33m(\u001b[0m\u001b[1;34m'temp.zip'\u001b[0m\u001b[1;33m,\u001b[0m \u001b[1;34m'wb'\u001b[0m\u001b[1;33m)\u001b[0m \u001b[1;32mas\u001b[0m \u001b[0mf\u001b[0m\u001b[1;33m:\u001b[0m\u001b[1;33m\u001b[0m\u001b[0m\n",
      "\u001b[1;32m~\\Anaconda3\\lib\\site-packages\\requests\\api.py\u001b[0m in \u001b[0;36mget\u001b[1;34m(url, params, **kwargs)\u001b[0m\n\u001b[0;32m     70\u001b[0m \u001b[1;33m\u001b[0m\u001b[0m\n\u001b[0;32m     71\u001b[0m     \u001b[0mkwargs\u001b[0m\u001b[1;33m.\u001b[0m\u001b[0msetdefault\u001b[0m\u001b[1;33m(\u001b[0m\u001b[1;34m'allow_redirects'\u001b[0m\u001b[1;33m,\u001b[0m \u001b[1;32mTrue\u001b[0m\u001b[1;33m)\u001b[0m\u001b[1;33m\u001b[0m\u001b[0m\n\u001b[1;32m---> 72\u001b[1;33m     \u001b[1;32mreturn\u001b[0m \u001b[0mrequest\u001b[0m\u001b[1;33m(\u001b[0m\u001b[1;34m'get'\u001b[0m\u001b[1;33m,\u001b[0m \u001b[0murl\u001b[0m\u001b[1;33m,\u001b[0m \u001b[0mparams\u001b[0m\u001b[1;33m=\u001b[0m\u001b[0mparams\u001b[0m\u001b[1;33m,\u001b[0m \u001b[1;33m**\u001b[0m\u001b[0mkwargs\u001b[0m\u001b[1;33m)\u001b[0m\u001b[1;33m\u001b[0m\u001b[0m\n\u001b[0m\u001b[0;32m     73\u001b[0m \u001b[1;33m\u001b[0m\u001b[0m\n\u001b[0;32m     74\u001b[0m \u001b[1;33m\u001b[0m\u001b[0m\n",
      "\u001b[1;32m~\\Anaconda3\\lib\\site-packages\\requests\\api.py\u001b[0m in \u001b[0;36mrequest\u001b[1;34m(method, url, **kwargs)\u001b[0m\n\u001b[0;32m     56\u001b[0m     \u001b[1;31m# cases, and look like a memory leak in others.\u001b[0m\u001b[1;33m\u001b[0m\u001b[1;33m\u001b[0m\u001b[0m\n\u001b[0;32m     57\u001b[0m     \u001b[1;32mwith\u001b[0m \u001b[0msessions\u001b[0m\u001b[1;33m.\u001b[0m\u001b[0mSession\u001b[0m\u001b[1;33m(\u001b[0m\u001b[1;33m)\u001b[0m \u001b[1;32mas\u001b[0m \u001b[0msession\u001b[0m\u001b[1;33m:\u001b[0m\u001b[1;33m\u001b[0m\u001b[0m\n\u001b[1;32m---> 58\u001b[1;33m         \u001b[1;32mreturn\u001b[0m \u001b[0msession\u001b[0m\u001b[1;33m.\u001b[0m\u001b[0mrequest\u001b[0m\u001b[1;33m(\u001b[0m\u001b[0mmethod\u001b[0m\u001b[1;33m=\u001b[0m\u001b[0mmethod\u001b[0m\u001b[1;33m,\u001b[0m \u001b[0murl\u001b[0m\u001b[1;33m=\u001b[0m\u001b[0murl\u001b[0m\u001b[1;33m,\u001b[0m \u001b[1;33m**\u001b[0m\u001b[0mkwargs\u001b[0m\u001b[1;33m)\u001b[0m\u001b[1;33m\u001b[0m\u001b[0m\n\u001b[0m\u001b[0;32m     59\u001b[0m \u001b[1;33m\u001b[0m\u001b[0m\n\u001b[0;32m     60\u001b[0m \u001b[1;33m\u001b[0m\u001b[0m\n",
      "\u001b[1;32m~\\Anaconda3\\lib\\site-packages\\requests\\sessions.py\u001b[0m in \u001b[0;36mrequest\u001b[1;34m(self, method, url, params, data, headers, cookies, files, auth, timeout, allow_redirects, proxies, hooks, stream, verify, cert, json)\u001b[0m\n\u001b[0;32m    506\u001b[0m         }\n\u001b[0;32m    507\u001b[0m         \u001b[0msend_kwargs\u001b[0m\u001b[1;33m.\u001b[0m\u001b[0mupdate\u001b[0m\u001b[1;33m(\u001b[0m\u001b[0msettings\u001b[0m\u001b[1;33m)\u001b[0m\u001b[1;33m\u001b[0m\u001b[0m\n\u001b[1;32m--> 508\u001b[1;33m         \u001b[0mresp\u001b[0m \u001b[1;33m=\u001b[0m \u001b[0mself\u001b[0m\u001b[1;33m.\u001b[0m\u001b[0msend\u001b[0m\u001b[1;33m(\u001b[0m\u001b[0mprep\u001b[0m\u001b[1;33m,\u001b[0m \u001b[1;33m**\u001b[0m\u001b[0msend_kwargs\u001b[0m\u001b[1;33m)\u001b[0m\u001b[1;33m\u001b[0m\u001b[0m\n\u001b[0m\u001b[0;32m    509\u001b[0m \u001b[1;33m\u001b[0m\u001b[0m\n\u001b[0;32m    510\u001b[0m         \u001b[1;32mreturn\u001b[0m \u001b[0mresp\u001b[0m\u001b[1;33m\u001b[0m\u001b[0m\n",
      "\u001b[1;32m~\\Anaconda3\\lib\\site-packages\\requests\\sessions.py\u001b[0m in \u001b[0;36msend\u001b[1;34m(self, request, **kwargs)\u001b[0m\n\u001b[0;32m    656\u001b[0m \u001b[1;33m\u001b[0m\u001b[0m\n\u001b[0;32m    657\u001b[0m         \u001b[1;32mif\u001b[0m \u001b[1;32mnot\u001b[0m \u001b[0mstream\u001b[0m\u001b[1;33m:\u001b[0m\u001b[1;33m\u001b[0m\u001b[0m\n\u001b[1;32m--> 658\u001b[1;33m             \u001b[0mr\u001b[0m\u001b[1;33m.\u001b[0m\u001b[0mcontent\u001b[0m\u001b[1;33m\u001b[0m\u001b[0m\n\u001b[0m\u001b[0;32m    659\u001b[0m \u001b[1;33m\u001b[0m\u001b[0m\n\u001b[0;32m    660\u001b[0m         \u001b[1;32mreturn\u001b[0m \u001b[0mr\u001b[0m\u001b[1;33m\u001b[0m\u001b[0m\n",
      "\u001b[1;32m~\\Anaconda3\\lib\\site-packages\\requests\\models.py\u001b[0m in \u001b[0;36mcontent\u001b[1;34m(self)\u001b[0m\n\u001b[0;32m    821\u001b[0m                 \u001b[0mself\u001b[0m\u001b[1;33m.\u001b[0m\u001b[0m_content\u001b[0m \u001b[1;33m=\u001b[0m \u001b[1;32mNone\u001b[0m\u001b[1;33m\u001b[0m\u001b[0m\n\u001b[0;32m    822\u001b[0m             \u001b[1;32melse\u001b[0m\u001b[1;33m:\u001b[0m\u001b[1;33m\u001b[0m\u001b[0m\n\u001b[1;32m--> 823\u001b[1;33m                 \u001b[0mself\u001b[0m\u001b[1;33m.\u001b[0m\u001b[0m_content\u001b[0m \u001b[1;33m=\u001b[0m \u001b[0mbytes\u001b[0m\u001b[1;33m(\u001b[0m\u001b[1;33m)\u001b[0m\u001b[1;33m.\u001b[0m\u001b[0mjoin\u001b[0m\u001b[1;33m(\u001b[0m\u001b[0mself\u001b[0m\u001b[1;33m.\u001b[0m\u001b[0miter_content\u001b[0m\u001b[1;33m(\u001b[0m\u001b[0mCONTENT_CHUNK_SIZE\u001b[0m\u001b[1;33m)\u001b[0m\u001b[1;33m)\u001b[0m \u001b[1;32mor\u001b[0m \u001b[0mbytes\u001b[0m\u001b[1;33m(\u001b[0m\u001b[1;33m)\u001b[0m\u001b[1;33m\u001b[0m\u001b[0m\n\u001b[0m\u001b[0;32m    824\u001b[0m \u001b[1;33m\u001b[0m\u001b[0m\n\u001b[0;32m    825\u001b[0m         \u001b[0mself\u001b[0m\u001b[1;33m.\u001b[0m\u001b[0m_content_consumed\u001b[0m \u001b[1;33m=\u001b[0m \u001b[1;32mTrue\u001b[0m\u001b[1;33m\u001b[0m\u001b[0m\n",
      "\u001b[1;32m~\\Anaconda3\\lib\\site-packages\\requests\\models.py\u001b[0m in \u001b[0;36mgenerate\u001b[1;34m()\u001b[0m\n\u001b[0;32m    743\u001b[0m             \u001b[1;32mif\u001b[0m \u001b[0mhasattr\u001b[0m\u001b[1;33m(\u001b[0m\u001b[0mself\u001b[0m\u001b[1;33m.\u001b[0m\u001b[0mraw\u001b[0m\u001b[1;33m,\u001b[0m \u001b[1;34m'stream'\u001b[0m\u001b[1;33m)\u001b[0m\u001b[1;33m:\u001b[0m\u001b[1;33m\u001b[0m\u001b[0m\n\u001b[0;32m    744\u001b[0m                 \u001b[1;32mtry\u001b[0m\u001b[1;33m:\u001b[0m\u001b[1;33m\u001b[0m\u001b[0m\n\u001b[1;32m--> 745\u001b[1;33m                     \u001b[1;32mfor\u001b[0m \u001b[0mchunk\u001b[0m \u001b[1;32min\u001b[0m \u001b[0mself\u001b[0m\u001b[1;33m.\u001b[0m\u001b[0mraw\u001b[0m\u001b[1;33m.\u001b[0m\u001b[0mstream\u001b[0m\u001b[1;33m(\u001b[0m\u001b[0mchunk_size\u001b[0m\u001b[1;33m,\u001b[0m \u001b[0mdecode_content\u001b[0m\u001b[1;33m=\u001b[0m\u001b[1;32mTrue\u001b[0m\u001b[1;33m)\u001b[0m\u001b[1;33m:\u001b[0m\u001b[1;33m\u001b[0m\u001b[0m\n\u001b[0m\u001b[0;32m    746\u001b[0m                         \u001b[1;32myield\u001b[0m \u001b[0mchunk\u001b[0m\u001b[1;33m\u001b[0m\u001b[0m\n\u001b[0;32m    747\u001b[0m                 \u001b[1;32mexcept\u001b[0m \u001b[0mProtocolError\u001b[0m \u001b[1;32mas\u001b[0m \u001b[0me\u001b[0m\u001b[1;33m:\u001b[0m\u001b[1;33m\u001b[0m\u001b[0m\n",
      "\u001b[1;32m~\\Anaconda3\\lib\\site-packages\\urllib3\\response.py\u001b[0m in \u001b[0;36mstream\u001b[1;34m(self, amt, decode_content)\u001b[0m\n\u001b[0;32m    434\u001b[0m         \u001b[1;32melse\u001b[0m\u001b[1;33m:\u001b[0m\u001b[1;33m\u001b[0m\u001b[0m\n\u001b[0;32m    435\u001b[0m             \u001b[1;32mwhile\u001b[0m \u001b[1;32mnot\u001b[0m \u001b[0mis_fp_closed\u001b[0m\u001b[1;33m(\u001b[0m\u001b[0mself\u001b[0m\u001b[1;33m.\u001b[0m\u001b[0m_fp\u001b[0m\u001b[1;33m)\u001b[0m\u001b[1;33m:\u001b[0m\u001b[1;33m\u001b[0m\u001b[0m\n\u001b[1;32m--> 436\u001b[1;33m                 \u001b[0mdata\u001b[0m \u001b[1;33m=\u001b[0m \u001b[0mself\u001b[0m\u001b[1;33m.\u001b[0m\u001b[0mread\u001b[0m\u001b[1;33m(\u001b[0m\u001b[0mamt\u001b[0m\u001b[1;33m=\u001b[0m\u001b[0mamt\u001b[0m\u001b[1;33m,\u001b[0m \u001b[0mdecode_content\u001b[0m\u001b[1;33m=\u001b[0m\u001b[0mdecode_content\u001b[0m\u001b[1;33m)\u001b[0m\u001b[1;33m\u001b[0m\u001b[0m\n\u001b[0m\u001b[0;32m    437\u001b[0m \u001b[1;33m\u001b[0m\u001b[0m\n\u001b[0;32m    438\u001b[0m                 \u001b[1;32mif\u001b[0m \u001b[0mdata\u001b[0m\u001b[1;33m:\u001b[0m\u001b[1;33m\u001b[0m\u001b[0m\n",
      "\u001b[1;32m~\\Anaconda3\\lib\\site-packages\\urllib3\\response.py\u001b[0m in \u001b[0;36mread\u001b[1;34m(self, amt, decode_content, cache_content)\u001b[0m\n\u001b[0;32m    382\u001b[0m             \u001b[1;32melse\u001b[0m\u001b[1;33m:\u001b[0m\u001b[1;33m\u001b[0m\u001b[0m\n\u001b[0;32m    383\u001b[0m                 \u001b[0mcache_content\u001b[0m \u001b[1;33m=\u001b[0m \u001b[1;32mFalse\u001b[0m\u001b[1;33m\u001b[0m\u001b[0m\n\u001b[1;32m--> 384\u001b[1;33m                 \u001b[0mdata\u001b[0m \u001b[1;33m=\u001b[0m \u001b[0mself\u001b[0m\u001b[1;33m.\u001b[0m\u001b[0m_fp\u001b[0m\u001b[1;33m.\u001b[0m\u001b[0mread\u001b[0m\u001b[1;33m(\u001b[0m\u001b[0mamt\u001b[0m\u001b[1;33m)\u001b[0m\u001b[1;33m\u001b[0m\u001b[0m\n\u001b[0m\u001b[0;32m    385\u001b[0m                 \u001b[1;32mif\u001b[0m \u001b[0mamt\u001b[0m \u001b[1;33m!=\u001b[0m \u001b[1;36m0\u001b[0m \u001b[1;32mand\u001b[0m \u001b[1;32mnot\u001b[0m \u001b[0mdata\u001b[0m\u001b[1;33m:\u001b[0m  \u001b[1;31m# Platform-specific: Buggy versions of Python.\u001b[0m\u001b[1;33m\u001b[0m\u001b[0m\n\u001b[0;32m    386\u001b[0m                     \u001b[1;31m# Close the connection when no data is returned\u001b[0m\u001b[1;33m\u001b[0m\u001b[1;33m\u001b[0m\u001b[0m\n",
      "\u001b[1;32m~\\Anaconda3\\lib\\http\\client.py\u001b[0m in \u001b[0;36mread\u001b[1;34m(self, amt)\u001b[0m\n\u001b[0;32m    447\u001b[0m             \u001b[1;31m# Amount is given, implement using readinto\u001b[0m\u001b[1;33m\u001b[0m\u001b[1;33m\u001b[0m\u001b[0m\n\u001b[0;32m    448\u001b[0m             \u001b[0mb\u001b[0m \u001b[1;33m=\u001b[0m \u001b[0mbytearray\u001b[0m\u001b[1;33m(\u001b[0m\u001b[0mamt\u001b[0m\u001b[1;33m)\u001b[0m\u001b[1;33m\u001b[0m\u001b[0m\n\u001b[1;32m--> 449\u001b[1;33m             \u001b[0mn\u001b[0m \u001b[1;33m=\u001b[0m \u001b[0mself\u001b[0m\u001b[1;33m.\u001b[0m\u001b[0mreadinto\u001b[0m\u001b[1;33m(\u001b[0m\u001b[0mb\u001b[0m\u001b[1;33m)\u001b[0m\u001b[1;33m\u001b[0m\u001b[0m\n\u001b[0m\u001b[0;32m    450\u001b[0m             \u001b[1;32mreturn\u001b[0m \u001b[0mmemoryview\u001b[0m\u001b[1;33m(\u001b[0m\u001b[0mb\u001b[0m\u001b[1;33m)\u001b[0m\u001b[1;33m[\u001b[0m\u001b[1;33m:\u001b[0m\u001b[0mn\u001b[0m\u001b[1;33m]\u001b[0m\u001b[1;33m.\u001b[0m\u001b[0mtobytes\u001b[0m\u001b[1;33m(\u001b[0m\u001b[1;33m)\u001b[0m\u001b[1;33m\u001b[0m\u001b[0m\n\u001b[0;32m    451\u001b[0m         \u001b[1;32melse\u001b[0m\u001b[1;33m:\u001b[0m\u001b[1;33m\u001b[0m\u001b[0m\n",
      "\u001b[1;32m~\\Anaconda3\\lib\\http\\client.py\u001b[0m in \u001b[0;36mreadinto\u001b[1;34m(self, b)\u001b[0m\n\u001b[0;32m    491\u001b[0m         \u001b[1;31m# connection, and the user is reading more bytes than will be provided\u001b[0m\u001b[1;33m\u001b[0m\u001b[1;33m\u001b[0m\u001b[0m\n\u001b[0;32m    492\u001b[0m         \u001b[1;31m# (for example, reading in 1k chunks)\u001b[0m\u001b[1;33m\u001b[0m\u001b[1;33m\u001b[0m\u001b[0m\n\u001b[1;32m--> 493\u001b[1;33m         \u001b[0mn\u001b[0m \u001b[1;33m=\u001b[0m \u001b[0mself\u001b[0m\u001b[1;33m.\u001b[0m\u001b[0mfp\u001b[0m\u001b[1;33m.\u001b[0m\u001b[0mreadinto\u001b[0m\u001b[1;33m(\u001b[0m\u001b[0mb\u001b[0m\u001b[1;33m)\u001b[0m\u001b[1;33m\u001b[0m\u001b[0m\n\u001b[0m\u001b[0;32m    494\u001b[0m         \u001b[1;32mif\u001b[0m \u001b[1;32mnot\u001b[0m \u001b[0mn\u001b[0m \u001b[1;32mand\u001b[0m \u001b[0mb\u001b[0m\u001b[1;33m:\u001b[0m\u001b[1;33m\u001b[0m\u001b[0m\n\u001b[0;32m    495\u001b[0m             \u001b[1;31m# Ideally, we would raise IncompleteRead if the content-length\u001b[0m\u001b[1;33m\u001b[0m\u001b[1;33m\u001b[0m\u001b[0m\n",
      "\u001b[1;32m~\\Anaconda3\\lib\\socket.py\u001b[0m in \u001b[0;36mreadinto\u001b[1;34m(self, b)\u001b[0m\n\u001b[0;32m    584\u001b[0m         \u001b[1;32mwhile\u001b[0m \u001b[1;32mTrue\u001b[0m\u001b[1;33m:\u001b[0m\u001b[1;33m\u001b[0m\u001b[0m\n\u001b[0;32m    585\u001b[0m             \u001b[1;32mtry\u001b[0m\u001b[1;33m:\u001b[0m\u001b[1;33m\u001b[0m\u001b[0m\n\u001b[1;32m--> 586\u001b[1;33m                 \u001b[1;32mreturn\u001b[0m \u001b[0mself\u001b[0m\u001b[1;33m.\u001b[0m\u001b[0m_sock\u001b[0m\u001b[1;33m.\u001b[0m\u001b[0mrecv_into\u001b[0m\u001b[1;33m(\u001b[0m\u001b[0mb\u001b[0m\u001b[1;33m)\u001b[0m\u001b[1;33m\u001b[0m\u001b[0m\n\u001b[0m\u001b[0;32m    587\u001b[0m             \u001b[1;32mexcept\u001b[0m \u001b[0mtimeout\u001b[0m\u001b[1;33m:\u001b[0m\u001b[1;33m\u001b[0m\u001b[0m\n\u001b[0;32m    588\u001b[0m                 \u001b[0mself\u001b[0m\u001b[1;33m.\u001b[0m\u001b[0m_timeout_occurred\u001b[0m \u001b[1;33m=\u001b[0m \u001b[1;32mTrue\u001b[0m\u001b[1;33m\u001b[0m\u001b[0m\n",
      "\u001b[1;32m~\\Anaconda3\\lib\\site-packages\\urllib3\\contrib\\pyopenssl.py\u001b[0m in \u001b[0;36mrecv_into\u001b[1;34m(self, *args, **kwargs)\u001b[0m\n\u001b[0;32m    278\u001b[0m     \u001b[1;32mdef\u001b[0m \u001b[0mrecv_into\u001b[0m\u001b[1;33m(\u001b[0m\u001b[0mself\u001b[0m\u001b[1;33m,\u001b[0m \u001b[1;33m*\u001b[0m\u001b[0margs\u001b[0m\u001b[1;33m,\u001b[0m \u001b[1;33m**\u001b[0m\u001b[0mkwargs\u001b[0m\u001b[1;33m)\u001b[0m\u001b[1;33m:\u001b[0m\u001b[1;33m\u001b[0m\u001b[0m\n\u001b[0;32m    279\u001b[0m         \u001b[1;32mtry\u001b[0m\u001b[1;33m:\u001b[0m\u001b[1;33m\u001b[0m\u001b[0m\n\u001b[1;32m--> 280\u001b[1;33m             \u001b[1;32mreturn\u001b[0m \u001b[0mself\u001b[0m\u001b[1;33m.\u001b[0m\u001b[0mconnection\u001b[0m\u001b[1;33m.\u001b[0m\u001b[0mrecv_into\u001b[0m\u001b[1;33m(\u001b[0m\u001b[1;33m*\u001b[0m\u001b[0margs\u001b[0m\u001b[1;33m,\u001b[0m \u001b[1;33m**\u001b[0m\u001b[0mkwargs\u001b[0m\u001b[1;33m)\u001b[0m\u001b[1;33m\u001b[0m\u001b[0m\n\u001b[0m\u001b[0;32m    281\u001b[0m         \u001b[1;32mexcept\u001b[0m \u001b[0mOpenSSL\u001b[0m\u001b[1;33m.\u001b[0m\u001b[0mSSL\u001b[0m\u001b[1;33m.\u001b[0m\u001b[0mSysCallError\u001b[0m \u001b[1;32mas\u001b[0m \u001b[0me\u001b[0m\u001b[1;33m:\u001b[0m\u001b[1;33m\u001b[0m\u001b[0m\n\u001b[0;32m    282\u001b[0m             \u001b[1;32mif\u001b[0m \u001b[0mself\u001b[0m\u001b[1;33m.\u001b[0m\u001b[0msuppress_ragged_eofs\u001b[0m \u001b[1;32mand\u001b[0m \u001b[0me\u001b[0m\u001b[1;33m.\u001b[0m\u001b[0margs\u001b[0m \u001b[1;33m==\u001b[0m \u001b[1;33m(\u001b[0m\u001b[1;33m-\u001b[0m\u001b[1;36m1\u001b[0m\u001b[1;33m,\u001b[0m \u001b[1;34m'Unexpected EOF'\u001b[0m\u001b[1;33m)\u001b[0m\u001b[1;33m:\u001b[0m\u001b[1;33m\u001b[0m\u001b[0m\n",
      "\u001b[1;32m~\\Anaconda3\\lib\\site-packages\\OpenSSL\\SSL.py\u001b[0m in \u001b[0;36mrecv_into\u001b[1;34m(self, buffer, nbytes, flags)\u001b[0m\n\u001b[0;32m   1811\u001b[0m             \u001b[0mresult\u001b[0m \u001b[1;33m=\u001b[0m \u001b[0m_lib\u001b[0m\u001b[1;33m.\u001b[0m\u001b[0mSSL_peek\u001b[0m\u001b[1;33m(\u001b[0m\u001b[0mself\u001b[0m\u001b[1;33m.\u001b[0m\u001b[0m_ssl\u001b[0m\u001b[1;33m,\u001b[0m \u001b[0mbuf\u001b[0m\u001b[1;33m,\u001b[0m \u001b[0mnbytes\u001b[0m\u001b[1;33m)\u001b[0m\u001b[1;33m\u001b[0m\u001b[0m\n\u001b[0;32m   1812\u001b[0m         \u001b[1;32melse\u001b[0m\u001b[1;33m:\u001b[0m\u001b[1;33m\u001b[0m\u001b[0m\n\u001b[1;32m-> 1813\u001b[1;33m             \u001b[0mresult\u001b[0m \u001b[1;33m=\u001b[0m \u001b[0m_lib\u001b[0m\u001b[1;33m.\u001b[0m\u001b[0mSSL_read\u001b[0m\u001b[1;33m(\u001b[0m\u001b[0mself\u001b[0m\u001b[1;33m.\u001b[0m\u001b[0m_ssl\u001b[0m\u001b[1;33m,\u001b[0m \u001b[0mbuf\u001b[0m\u001b[1;33m,\u001b[0m \u001b[0mnbytes\u001b[0m\u001b[1;33m)\u001b[0m\u001b[1;33m\u001b[0m\u001b[0m\n\u001b[0m\u001b[0;32m   1814\u001b[0m         \u001b[0mself\u001b[0m\u001b[1;33m.\u001b[0m\u001b[0m_raise_ssl_error\u001b[0m\u001b[1;33m(\u001b[0m\u001b[0mself\u001b[0m\u001b[1;33m.\u001b[0m\u001b[0m_ssl\u001b[0m\u001b[1;33m,\u001b[0m \u001b[0mresult\u001b[0m\u001b[1;33m)\u001b[0m\u001b[1;33m\u001b[0m\u001b[0m\n\u001b[0;32m   1815\u001b[0m \u001b[1;33m\u001b[0m\u001b[0m\n",
      "\u001b[1;31mKeyboardInterrupt\u001b[0m: "
     ]
    }
   ],
   "source": [
    "#This only needs to be executed once, then the files are on your local\n",
    "\n",
    "yr = 2017\n",
    "\n",
    "while yr > 1989:\n",
    "    url = f'https://aqs.epa.gov/aqsweb/airdata/daily_aqi_by_cbsa_{yr}.zip'\n",
    "    response = requests.get(url)\n",
    "    yr -= 1\n",
    "    with open('temp.zip', 'wb') as f:\n",
    "        f.write(response.content)\n",
    "        !unzip 'temp.zip'"
   ]
  },
  {
   "cell_type": "code",
   "execution_count": 2,
   "metadata": {},
   "outputs": [
    {
     "name": "stdout",
     "output_type": "stream",
     "text": [
      "file: 1990, 27 to go\n",
      "file: 1991, 26 to go\n",
      "file: 1992, 25 to go\n",
      "file: 1993, 24 to go\n",
      "file: 1994, 23 to go\n",
      "file: 1995, 22 to go\n",
      "file: 1996, 21 to go\n",
      "file: 1997, 20 to go\n",
      "file: 1998, 19 to go\n",
      "file: 1999, 18 to go\n",
      "file: 2000, 17 to go\n",
      "file: 2001, 16 to go\n",
      "file: 2002, 15 to go\n",
      "file: 2003, 14 to go\n",
      "file: 2004, 13 to go\n",
      "file: 2005, 12 to go\n",
      "file: 2006, 11 to go\n",
      "file: 2007, 10 to go\n",
      "file: 2008, 9 to go\n",
      "file: 2009, 8 to go\n",
      "file: 2010, 7 to go\n",
      "file: 2011, 6 to go\n",
      "file: 2012, 5 to go\n",
      "file: 2013, 4 to go\n",
      "file: 2014, 3 to go\n",
      "file: 2015, 2 to go\n",
      "file: 2016, 1 to go\n",
      "file: 2017, 0 to go\n"
     ]
    }
   ],
   "source": [
    "df = pd.DataFrame()\n",
    "x = 27\n",
    "\n",
    "for file in glob.glob('C:/Users/dshaf/Documents/School/classproject/ProjectOne/Project Data/daily*'):\n",
    "\n",
    "    data = pd.read_csv(file, header = 0)\n",
    "    df = df.append(data)\n",
    "    print('file: ' + str(file[-8:-4]) + ', ' + str(x) + ' to go')\n",
    "    x -= 1"
   ]
  },
  {
   "cell_type": "code",
   "execution_count": 3,
   "metadata": {},
   "outputs": [],
   "source": [
    "# atlanta_df = df.loc[  (df['CBSA'].apply( lambda s:  \"Atlanta\" in s  )) & (df['Defining Parameter'] == 'Ozone')]\n",
    "# dallas_df = df.loc[  (df['CBSA'].apply( lambda s:  \"Dallas\" in s  )) & (df['Defining Parameter'] == 'Ozone')]\n",
    "# austin_df = df.loc[  (df['CBSA'].apply( lambda s:  \"Austin\" in s  )) & (df['Defining Parameter'] == 'Ozone')]\n",
    "# nashville_df = df.loc[  (df['CBSA'].apply( lambda s:  \"Nashville\" in s  )) & (df['Defining Parameter'] == 'Ozone')]\n",
    "combined_df = df.loc[(df['CBSA'].apply( lambda s:  \"Atlanta\" in s  )) | (df['CBSA'].apply( lambda s:  \"Dallas\" in s  )) | (df['CBSA'].apply( lambda s:  \"Nashville\" in s  )) | (df['CBSA'].apply( lambda s:  \"Austin\" in s  )) ]"
   ]
  },
  {
   "cell_type": "code",
   "execution_count": 20,
   "metadata": {},
   "outputs": [],
   "source": [
    "combined_df.to_csv('All pollutants Air Quality Data.csv', index = False)"
   ]
  },
  {
   "cell_type": "code",
   "execution_count": 4,
   "metadata": {},
   "outputs": [],
   "source": [
    "combined_df = combined_df.reset_index()\n",
    "combined_df['Date'] = combined_df['Date'].astype(str)\n",
    "\n",
    "lst = combined_df['Date']\n",
    "year_list = []\n",
    "for x in lst:\n",
    "    yr = x[:4]\n",
    "    year_list.append(yr)\n",
    "combined_df['Year'] = year_list"
   ]
  },
  {
   "cell_type": "code",
   "execution_count": 5,
   "metadata": {},
   "outputs": [
    {
     "data": {
      "text/plain": [
       "Nashville-Davidson--Murfreesboro--Franklin, TN    10227\n",
       "Atlanta-Sandy Springs-Roswell, GA                 10227\n",
       "Dallas-Fort Worth-Arlington, TX                   10227\n",
       "Austin-Round Rock, TX                             10225\n",
       "Name: CBSA, dtype: int64"
      ]
     },
     "execution_count": 5,
     "metadata": {},
     "output_type": "execute_result"
    }
   ],
   "source": [
    "combined_df['CBSA'].value_counts()"
   ]
  },
  {
   "cell_type": "code",
   "execution_count": 8,
   "metadata": {},
   "outputs": [],
   "source": [
    "annual_average = combined_df.groupby(['CBSA', 'Year', 'Defining Parameter'])['AQI'].mean().reset_index()\n",
    "annual_average.to_csv('AllPollutants_Annual_Avg_by_city.csv', header = True)"
   ]
  },
  {
   "cell_type": "code",
   "execution_count": 9,
   "metadata": {},
   "outputs": [
    {
     "data": {
      "text/html": [
       "<div>\n",
       "<style scoped>\n",
       "    .dataframe tbody tr th:only-of-type {\n",
       "        vertical-align: middle;\n",
       "    }\n",
       "\n",
       "    .dataframe tbody tr th {\n",
       "        vertical-align: top;\n",
       "    }\n",
       "\n",
       "    .dataframe thead th {\n",
       "        text-align: right;\n",
       "    }\n",
       "</style>\n",
       "<table border=\"1\" class=\"dataframe\">\n",
       "  <thead>\n",
       "    <tr style=\"text-align: right;\">\n",
       "      <th></th>\n",
       "      <th>CBSA</th>\n",
       "      <th>Year</th>\n",
       "      <th>Defining Parameter</th>\n",
       "      <th>AQI</th>\n",
       "    </tr>\n",
       "  </thead>\n",
       "  <tbody>\n",
       "    <tr>\n",
       "      <th>0</th>\n",
       "      <td>Atlanta-Sandy Springs-Roswell, GA</td>\n",
       "      <td>1990</td>\n",
       "      <td>CO</td>\n",
       "      <td>38.333333</td>\n",
       "    </tr>\n",
       "    <tr>\n",
       "      <th>1</th>\n",
       "      <td>Atlanta-Sandy Springs-Roswell, GA</td>\n",
       "      <td>1990</td>\n",
       "      <td>NO2</td>\n",
       "      <td>43.767857</td>\n",
       "    </tr>\n",
       "    <tr>\n",
       "      <th>2</th>\n",
       "      <td>Atlanta-Sandy Springs-Roswell, GA</td>\n",
       "      <td>1990</td>\n",
       "      <td>Ozone</td>\n",
       "      <td>119.298246</td>\n",
       "    </tr>\n",
       "    <tr>\n",
       "      <th>3</th>\n",
       "      <td>Atlanta-Sandy Springs-Roswell, GA</td>\n",
       "      <td>1990</td>\n",
       "      <td>PM10</td>\n",
       "      <td>58.400000</td>\n",
       "    </tr>\n",
       "    <tr>\n",
       "      <th>4</th>\n",
       "      <td>Atlanta-Sandy Springs-Roswell, GA</td>\n",
       "      <td>1990</td>\n",
       "      <td>SO2</td>\n",
       "      <td>82.932203</td>\n",
       "    </tr>\n",
       "  </tbody>\n",
       "</table>\n",
       "</div>"
      ],
      "text/plain": [
       "                                CBSA  Year Defining Parameter         AQI\n",
       "0  Atlanta-Sandy Springs-Roswell, GA  1990                 CO   38.333333\n",
       "1  Atlanta-Sandy Springs-Roswell, GA  1990                NO2   43.767857\n",
       "2  Atlanta-Sandy Springs-Roswell, GA  1990              Ozone  119.298246\n",
       "3  Atlanta-Sandy Springs-Roswell, GA  1990               PM10   58.400000\n",
       "4  Atlanta-Sandy Springs-Roswell, GA  1990                SO2   82.932203"
      ]
     },
     "execution_count": 9,
     "metadata": {},
     "output_type": "execute_result"
    }
   ],
   "source": [
    "annual_average.head()"
   ]
  },
  {
   "cell_type": "code",
   "execution_count": 10,
   "metadata": {},
   "outputs": [
    {
     "name": "stdout",
     "output_type": "stream",
     "text": [
      "The correlation coefficient between population and ozone in Atlanta is -0.39 and the p-value is 0.05\n",
      "The correlation coefficient between population and ozone in Austin is -0.11 and the p-value is 0.58\n",
      "The correlation coefficient between population and ozone in Dallas is -0.1 and the p-value is 0.62\n",
      "The correlation coefficient between population and ozone in Nashville is -0.75 and the p-value is 0.0\n"
     ]
    }
   ],
   "source": [
    "# Get the correlation coefficient of the populations and air quality in each city\n",
    "\n",
    "#Atlanta\n",
    "filename = 'C:/Users/dshaf/Documents/School/classproject/ProjectOne/Census ACS5 Data/Atlanta_Census.csv'\n",
    "\n",
    "atl_data = pd.read_csv(filename)\n",
    "atl_data = atl_data.sort_values(['Year'], ascending = True)\n",
    "atl_pop = atl_data['Population']\n",
    "\n",
    "atl_ozone_df = annual_average.loc[(annual_average['CBSA'] == 'Atlanta-Sandy Springs-Roswell, GA') & (annual_average['Defining Parameter'] == 'Ozone')]\n",
    "atl_ozone = atl_ozone_df['AQI'].reset_index()\n",
    "atl_ozone = atl_ozone.drop(['index'], axis = 1)\n",
    "atl_ozone = atl_ozone['AQI'][0:27]\n",
    "\n",
    "atl_corr = pearsonr(atl_pop, atl_ozone)\n",
    "atl_corco = round(atl_corr[0],2)\n",
    "atl_p = round(atl_corr[1],2)\n",
    "print(f'The correlation coefficient between population and ozone in Atlanta is {atl_corco} and the p-value is {atl_p}')\n",
    "\n",
    "#Austin\n",
    "filename = 'C:/Users/dshaf/Documents/School/classproject/ProjectOne/Census ACS5 Data/Austin_Census.csv'\n",
    "\n",
    "aus_data = pd.read_csv(filename)\n",
    "aus_data = aus_data.sort_values(['Year'], ascending = True)\n",
    "aus_pop = aus_data['Population']\n",
    "\n",
    "aus_ozone_df = annual_average.loc[(annual_average['CBSA'] == 'Austin-Round Rock, TX') & (annual_average['Defining Parameter'] == 'Ozone')]\n",
    "aus_ozone = aus_ozone_df['AQI'].reset_index()\n",
    "aus_ozone = aus_ozone.drop(['index'], axis = 1)\n",
    "aus_ozone = aus_ozone['AQI'][0:27]\n",
    "\n",
    "aus_corr = pearsonr(aus_pop, aus_ozone)\n",
    "aus_corco = round(aus_corr[0],2)\n",
    "aus_p = round(aus_corr[1],2)\n",
    "print(f'The correlation coefficient between population and ozone in Austin is {aus_corco} and the p-value is {aus_p}')\n",
    "\n",
    "#Dallas\n",
    "filename = 'C:/Users/dshaf/Documents/School/classproject/ProjectOne/Census ACS5 Data/Dallas_Census.csv'\n",
    "\n",
    "dal_data = pd.read_csv(filename)\n",
    "dal_data = dal_data.sort_values(['Year'], ascending = True)\n",
    "dal_pop = dal_data['Population']\n",
    "\n",
    "dal_ozone_df = annual_average.loc[(annual_average['CBSA'] == 'Austin-Round Rock, TX') & (annual_average['Defining Parameter'] == 'Ozone')]\n",
    "dal_ozone = dal_ozone_df['AQI'].reset_index()\n",
    "dal_ozone = dal_ozone.drop(['index'], axis = 1)\n",
    "dal_ozone = dal_ozone['AQI'][0:27]\n",
    "\n",
    "dal_corr = pearsonr(dal_pop, dal_ozone)\n",
    "dal_corco = round(dal_corr[0],2)\n",
    "dal_p = round(dal_corr[1],2)\n",
    "print(f'The correlation coefficient between population and ozone in Dallas is {dal_corco} and the p-value is {dal_p}')\n",
    "\n",
    "#Nashville\n",
    "filename = 'C:/Users/dshaf/Documents/School/classproject/ProjectOne/Census ACS5 Data/Nashville_Census.csv'\n",
    "\n",
    "nash_data = pd.read_csv(filename)\n",
    "nash_data = nash_data.sort_values(['Year'], ascending = True)\n",
    "nash_pop = nash_data['Population']\n",
    "\n",
    "nash_ozone_df = annual_average.loc[(annual_average['CBSA'] == 'Nashville-Davidson--Murfreesboro--Franklin, TN') & (annual_average['Defining Parameter'] == 'Ozone')]\n",
    "nash_ozone = nash_ozone_df['AQI'].reset_index()\n",
    "nash_ozone = nash_ozone.drop(['index'], axis = 1)\n",
    "nash_ozone = nash_ozone['AQI'][0:27]\n",
    "\n",
    "nash_corr = pearsonr(nash_pop, nash_ozone)\n",
    "nash_corco = round(nash_corr[0],2)\n",
    "nash_p = round(nash_corr[1],2)\n",
    "print(f'The correlation coefficient between population and ozone in Nashville is {nash_corco} and the p-value is {nash_p}')"
   ]
  },
  {
   "cell_type": "code",
   "execution_count": 13,
   "metadata": {},
   "outputs": [
    {
     "name": "stdout",
     "output_type": "stream",
     "text": [
      "The correlation coefficient between manufacturing and ozone in Atlanta is 0.73 and the p-value is 0.0\n",
      "The correlation coefficient between manufacturing and ozone in Austin is 0.5 and the p-value is 0.01\n",
      "The correlation coefficient between manufacturing and ozone in Dallas is 0.34 and the p-value is 0.08\n",
      "The correlation coefficient between manufacturing and ozone in Nashville is 0.71 and the p-value is 0.0\n"
     ]
    }
   ],
   "source": [
    "# Get the correlation coefficient b/w the manufacturing data and air quality in each city\n",
    "\n",
    "#Atlanta\n",
    "filename_man = 'C:/Users/dshaf/Documents/School/classproject/ProjectOne/Manufacturing Data/Atlanta.csv'\n",
    "\n",
    "atl_man_data = pd.read_csv(filename_man)\n",
    "atl_man = atl_man_data['Annual'][0:27]\n",
    "atl_man_corr = pearsonr(atl_man, atl_ozone)\n",
    "atl_man_corco = round(atl_man_corr[0],2)\n",
    "atl_m = round(atl_man_corr[1],2)\n",
    "print(f'The correlation coefficient between manufacturing and ozone in Atlanta is {atl_man_corco} and the p-value is {atl_m}')\n",
    "\n",
    "#Austin\n",
    "filename_man = 'C:/Users/dshaf/Documents/School/classproject/ProjectOne/Manufacturing Data/Austin.csv'\n",
    "\n",
    "aus_man_data = pd.read_csv(filename_man)\n",
    "aus_man = aus_man_data['Annual'][0:27]\n",
    "aus_man_corr = pearsonr(aus_man, aus_ozone)\n",
    "aus_man_corco = round(aus_man_corr[0],2)\n",
    "aus_m = round(aus_man_corr[1],2)\n",
    "print(f'The correlation coefficient between manufacturing and ozone in Austin is {aus_man_corco} and the p-value is {aus_m}')\n",
    "\n",
    "#Dallas\n",
    "filename_man = 'C:/Users/dshaf/Documents/School/classproject/ProjectOne/Manufacturing Data/Dallas.csv'\n",
    "\n",
    "dal_man_data = pd.read_csv(filename_man)\n",
    "dal_man = dal_man_data['Annual'][0:27]\n",
    "dal_man_corr = pearsonr(dal_man, dal_ozone)\n",
    "dal_man_corco = round(dal_man_corr[0],2)\n",
    "dal_m = round(dal_man_corr[1],2)\n",
    "print(f'The correlation coefficient between manufacturing and ozone in Dallas is {dal_man_corco} and the p-value is {dal_m}')\n",
    "\n",
    "#Nashville\n",
    "filename_man = 'C:/Users/dshaf/Documents/School/classproject/ProjectOne/Manufacturing Data/Nashville.csv'\n",
    "\n",
    "nash_man_data = pd.read_csv(filename_man)\n",
    "nash_man = nash_man_data['Annual'][0:27]\n",
    "nash_man_corr = pearsonr(nash_man, nash_ozone)\n",
    "nash_man_corco = round(nash_man_corr[0],2)\n",
    "nash_m = round(nash_man_corr[1],2)\n",
    "print(f'The correlation coefficient between manufacturing and ozone in Nashville is {nash_man_corco} and the p-value is {nash_m}')"
   ]
  },
  {
   "cell_type": "code",
   "execution_count": 19,
   "metadata": {},
   "outputs": [
    {
     "name": "stdout",
     "output_type": "stream",
     "text": [
      "The correlation coefficient between vehicles and ozone in Atlanta is 0.28 and the p-value is 0.49\n",
      "The correlation coefficient between vehicles and ozone in Austin is -0.01 and the p-value is 0.98\n",
      "The correlation coefficient between vehicles and ozone in Dallas is 0.01 and the p-value is 0.98\n",
      "The correlation coefficient between vehicles and ozone in Nashville is -0.47 and the p-value is 0.24\n"
     ]
    }
   ],
   "source": [
    "# Get the correlation coefficient b/w the vehicle data and air quality in each city\n",
    "\n",
    "filename_vehicle = 'C:/Users/dshaf/Documents/School/classproject/ProjectOne/Manufacturing Data/Vehicles available for work commute by Metro Area.xlsx'\n",
    "vehicle_data = pd.read_excel(filename_vehicle)\n",
    "vehicle_data = vehicle_data.rename(columns = {'Aggregate nunber or vehicles ailable for work commute':'vehicle_count'})\n",
    "\n",
    "#Atlanta\n",
    "\n",
    "atl_veh_data = vehicle_data.loc[vehicle_data['Metro Area'] == 12060]\n",
    "atl_veh = atl_veh_data['vehicle_count'][0:8]\n",
    "atl_veh_corr = pearsonr(atl_veh, atl_ozone[0:8])\n",
    "atl_veh_corco = round(atl_veh_corr[0],2)\n",
    "atl_v = round(atl_veh_corr[1],2)\n",
    "print(f'The correlation coefficient between vehicles and ozone in Atlanta is {atl_veh_corco} and the p-value is {atl_v}')\n",
    "\n",
    "#Austin\n",
    "\n",
    "aus_veh_data = vehicle_data.loc[vehicle_data['Metro Area'] == 12420]\n",
    "aus_veh = aus_veh_data['vehicle_count'][0:8]\n",
    "aus_veh_corr = pearsonr(aus_veh, aus_ozone[0:8])\n",
    "aus_veh_corco = round(aus_veh_corr[0],2)\n",
    "aus_v = round(aus_veh_corr[1],2)\n",
    "print(f'The correlation coefficient between vehicles and ozone in Austin is {aus_veh_corco} and the p-value is {aus_v}')\n",
    "\n",
    "#Dallas\n",
    "\n",
    "dal_veh_data = vehicle_data.loc[vehicle_data['Metro Area'] == 19100]\n",
    "dal_veh = dal_veh_data['vehicle_count'][0:8]\n",
    "dal_veh_corr = pearsonr(dal_veh, dal_ozone[0:8])\n",
    "dal_veh_corco = round(dal_veh_corr[0],2)\n",
    "dal_v = round(dal_veh_corr[1],2)\n",
    "print(f'The correlation coefficient between vehicles and ozone in Dallas is {dal_veh_corco} and the p-value is {dal_v}')\n",
    "\n",
    "#Nashville\n",
    "\n",
    "nash_veh_data = vehicle_data.loc[vehicle_data['Metro Area'] == 34980]\n",
    "nash_veh = nash_veh_data['vehicle_count'][0:8]\n",
    "nash_veh_corr = pearsonr(nash_veh, nash_ozone[0:8])\n",
    "nash_veh_corco = round(nash_veh_corr[0],2)\n",
    "nash_v = round(nash_veh_corr[1],2)\n",
    "print(f'The correlation coefficient between vehicles and ozone in Nashville is {nash_veh_corco} and the p-value is {nash_v}')"
   ]
  },
  {
   "cell_type": "code",
   "execution_count": null,
   "metadata": {},
   "outputs": [],
   "source": []
  }
 ],
 "metadata": {
  "kernelspec": {
   "display_name": "Python [conda env:Anaconda3]",
   "language": "python",
   "name": "conda-env-Anaconda3-py"
  },
  "language_info": {
   "codemirror_mode": {
    "name": "ipython",
    "version": 3
   },
   "file_extension": ".py",
   "mimetype": "text/x-python",
   "name": "python",
   "nbconvert_exporter": "python",
   "pygments_lexer": "ipython3",
   "version": "3.6.5"
  }
 },
 "nbformat": 4,
 "nbformat_minor": 2
}
